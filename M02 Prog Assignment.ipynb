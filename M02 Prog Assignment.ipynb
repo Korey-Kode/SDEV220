{
 "cells": [
  {
   "cell_type": "code",
   "execution_count": 1,
   "id": "76501dec",
   "metadata": {},
   "outputs": [
    {
     "name": "stdout",
     "output_type": "stream",
     "text": [
      "Enter Student Last Name: Hawkins\n",
      "Enter Student First NameKorey\n",
      "Enter Student GPA:  3.6\n",
      "Korey Hawkins has made the Dean's List.\n",
      "\n",
      "Enter Student Last Name: ZZZ\n"
     ]
    }
   ],
   "source": [
    "#Name: Korey Hawkins\n",
    "#Date: 8/31/23\n",
    "#This program decides whether the student has made Dean's list\n",
    "#or Honor Roll.\n",
    "\n",
    "#Requesting the last name of user\n",
    "lastname = input(\"Enter Student Last Name: \")\n",
    "\n",
    "#Checking if the last name entered 'ZZZ' or not.\n",
    "while lastname != \"ZZZ\":\n",
    "    #Asking the user to enter student First name.\n",
    "    firstname = input(\"Enter Student First Name\")\n",
    "    #Asking the user to enter Student GPA\n",
    "    gpa = float(input(\"Enter Student GPA:  \"))\n",
    "    #Checking if the gpa is 3.5 or more\n",
    "    #If it is then student has made the Dean's List\n",
    "    if gpa >= 3.5:\n",
    "        print(\"{} {} has made the Dean's List.\".format(firstname, lastname))\n",
    "    #Checking if the GPA is 3.25 or more\n",
    "    #Then student has made Honor Roll\n",
    "    else:\n",
    "        if gpa >= 3.25:\n",
    "            print(\"{} {} has made the Honor Roll.\".format(firstname, lastname))\n",
    "    lastname = input (\"\\nEnter Student Last Name: \")\n",
    "    #Repeating process until 'ZZZ' is entered"
   ]
  },
  {
   "cell_type": "code",
   "execution_count": null,
   "id": "e19ec205",
   "metadata": {},
   "outputs": [],
   "source": []
  }
 ],
 "metadata": {
  "kernelspec": {
   "display_name": "Python 3 (ipykernel)",
   "language": "python",
   "name": "python3"
  },
  "language_info": {
   "codemirror_mode": {
    "name": "ipython",
    "version": 3
   },
   "file_extension": ".py",
   "mimetype": "text/x-python",
   "name": "python",
   "nbconvert_exporter": "python",
   "pygments_lexer": "ipython3",
   "version": "3.11.4"
  }
 },
 "nbformat": 4,
 "nbformat_minor": 5
}
