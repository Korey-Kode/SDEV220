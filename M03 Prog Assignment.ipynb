{
 "cells": [
  {
   "cell_type": "code",
   "execution_count": null,
   "id": "1c7eac7d",
   "metadata": {},
   "outputs": [],
   "source": [
    "things = ['mozarella', 'cinderella', 'salmonella']"
   ]
  },
  {
   "cell_type": "code",
   "execution_count": 3,
   "id": "dc084fb5",
   "metadata": {},
   "outputs": [
    {
     "name": "stdout",
     "output_type": "stream",
     "text": [
      "['mozarella', 'CINDERELLA', 'salmonella']\n"
     ]
    }
   ],
   "source": [
    "things = ['mozarella', 'CINDERELLA', 'salmonella']\n",
    "print(things)"
   ]
  },
  {
   "cell_type": "code",
   "execution_count": 4,
   "id": "de04081d",
   "metadata": {},
   "outputs": [
    {
     "name": "stdout",
     "output_type": "stream",
     "text": [
      "['MOZARELLA', 'CINDERELLA', 'salmonella']\n"
     ]
    }
   ],
   "source": [
    "things = ['MOZARELLA', 'CINDERELLA', 'salmonella']\n",
    "print(things)"
   ]
  },
  {
   "cell_type": "code",
   "execution_count": 6,
   "id": "99c74d41",
   "metadata": {},
   "outputs": [],
   "source": [
    "def good():\n",
    "    list_1 = ['Harry', 'Ron', 'Hermoine']\n",
    "    return list_1"
   ]
  },
  {
   "cell_type": "code",
   "execution_count": 8,
   "id": "714a52d8",
   "metadata": {},
   "outputs": [
    {
     "name": "stdout",
     "output_type": "stream",
     "text": [
      "5\n"
     ]
    }
   ],
   "source": [
    "def get_odds():\n",
    "    for num in range(10):\n",
    "        if num % 2 != 0:\n",
    "            yield num\n",
    "            \n",
    "count = 0\n",
    "for num in get_odds():\n",
    "        if count == 2:\n",
    "            print(num)\n",
    "            break\n",
    "        count += 1"
   ]
  },
  {
   "cell_type": "code",
   "execution_count": null,
   "id": "cf274370",
   "metadata": {},
   "outputs": [],
   "source": []
  }
 ],
 "metadata": {
  "kernelspec": {
   "display_name": "Python 3 (ipykernel)",
   "language": "python",
   "name": "python3"
  },
  "language_info": {
   "codemirror_mode": {
    "name": "ipython",
    "version": 3
   },
   "file_extension": ".py",
   "mimetype": "text/x-python",
   "name": "python",
   "nbconvert_exporter": "python",
   "pygments_lexer": "ipython3",
   "version": "3.11.4"
  }
 },
 "nbformat": 4,
 "nbformat_minor": 5
}
